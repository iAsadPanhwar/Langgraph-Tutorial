{
  "nbformat": 4,
  "nbformat_minor": 0,
  "metadata": {
    "colab": {
      "provenance": []
    },
    "kernelspec": {
      "name": "python3",
      "display_name": "Python 3"
    },
    "language_info": {
      "name": "python"
    }
  },
  "cells": [
    {
      "cell_type": "code",
      "execution_count": 4,
      "metadata": {
        "id": "xLPPjBrDfrtg"
      },
      "outputs": [],
      "source": [
        "!pip install -q langgraph langsmith langchain langchain_groq langchain_community"
      ]
    },
    {
      "cell_type": "code",
      "source": [
        "from google.colab import userdata\n",
        "import os\n",
        "\n",
        "os.environ[\"LANGCHAIN_TRACING_V2\"] = \"true\"\n",
        "os.environ[\"LANGCHAIN_PROJECT\"] = \"LearningLanggraph\"\n",
        "os.environ[\"GROQ_API_KEY\"] = userdata.get('GROK_LLAMA3')\n",
        "os.environ[\"LANGCHAIN_API_KEY\"] = userdata.get('Langsmith_api_key')"
      ],
      "metadata": {
        "id": "HIRx7ZxYf9Pr"
      },
      "execution_count": 7,
      "outputs": []
    },
    {
      "cell_type": "code",
      "source": [
        "from langchain_groq import ChatGroq\n",
        "\n",
        "llm = ChatGroq(model_name = \"gemma2-9b-It\")"
      ],
      "metadata": {
        "id": "eMaHhM23hM-b"
      },
      "execution_count": 8,
      "outputs": []
    },
    {
      "cell_type": "code",
      "source": [
        "llm"
      ],
      "metadata": {
        "colab": {
          "base_uri": "https://localhost:8080/"
        },
        "id": "oFiS7YcCkC4_",
        "outputId": "25302ca1-b2ee-4ad7-e41f-8d189a66d56b"
      },
      "execution_count": 9,
      "outputs": [
        {
          "output_type": "execute_result",
          "data": {
            "text/plain": [
              "ChatGroq(client=<groq.resources.chat.completions.Completions object at 0x7821842b4e50>, async_client=<groq.resources.chat.completions.AsyncCompletions object at 0x7821842b5b10>, model_name='gemma2-9b-It', model_kwargs={}, groq_api_key=SecretStr('**********'))"
            ]
          },
          "metadata": {},
          "execution_count": 9
        }
      ]
    },
    {
      "cell_type": "markdown",
      "source": [
        "# **Building Chatbot using LangGraph**"
      ],
      "metadata": {
        "id": "vCEsXlzokIAu"
      }
    },
    {
      "cell_type": "code",
      "source": [
        "from typing import Annotated\n",
        "from typing_extensions import TypedDict\n",
        "from langgraph.graph import StateGraph, START, END\n",
        "from langgraph.graph.message import add_messages"
      ],
      "metadata": {
        "id": "funCoYCvkHlX"
      },
      "execution_count": 10,
      "outputs": []
    },
    {
      "cell_type": "code",
      "source": [
        "class State(TypedDict):\n",
        "  \"\"\"\n",
        "  Messages have the type \"list\". The 'add_messages' function in the annotation defines how this state\n",
        "  key should be updated (in this case, it appends messages to the list, rather than overwriting them)\n",
        "  \"\"\"\n",
        "  messages: Annotated[list, add_messages]\n",
        "\n",
        "graph_builder = StateGraph(State)"
      ],
      "metadata": {
        "id": "4U3o35upkEz-"
      },
      "execution_count": 11,
      "outputs": []
    },
    {
      "cell_type": "code",
      "source": [
        "graph_builder"
      ],
      "metadata": {
        "colab": {
          "base_uri": "https://localhost:8080/"
        },
        "id": "-3shQN30lvJB",
        "outputId": "4b40bb1e-27c3-4a02-e337-430fff715832"
      },
      "execution_count": 13,
      "outputs": [
        {
          "output_type": "execute_result",
          "data": {
            "text/plain": [
              "<langgraph.graph.state.StateGraph at 0x7821842b6350>"
            ]
          },
          "metadata": {},
          "execution_count": 13
        }
      ]
    },
    {
      "cell_type": "code",
      "source": [
        "def chatbot(state: State):\n",
        "  return {\"messages\":llm.invoke(state['messages'])}"
      ],
      "metadata": {
        "id": "uVWGrvRQlwjz"
      },
      "execution_count": 14,
      "outputs": []
    },
    {
      "cell_type": "code",
      "source": [
        "graph_builder.add_node(chatbot)"
      ],
      "metadata": {
        "colab": {
          "base_uri": "https://localhost:8080/"
        },
        "id": "YdyTENtImYDd",
        "outputId": "e1912891-a91f-45fe-b6c6-060ee5a1f63e"
      },
      "execution_count": 15,
      "outputs": [
        {
          "output_type": "execute_result",
          "data": {
            "text/plain": [
              "<langgraph.graph.state.StateGraph at 0x7821842b6350>"
            ]
          },
          "metadata": {},
          "execution_count": 15
        }
      ]
    },
    {
      "cell_type": "code",
      "source": [
        "graph_builder.add_edge(START, \"chatbot\")\n",
        "graph_builder.add_edge(\"chatbot\", END)"
      ],
      "metadata": {
        "colab": {
          "base_uri": "https://localhost:8080/"
        },
        "id": "PCvCQakumdaZ",
        "outputId": "be5d2bb1-0c6b-4180-dbdd-607bd0d95756"
      },
      "execution_count": 16,
      "outputs": [
        {
          "output_type": "execute_result",
          "data": {
            "text/plain": [
              "<langgraph.graph.state.StateGraph at 0x7821842b6350>"
            ]
          },
          "metadata": {},
          "execution_count": 16
        }
      ]
    },
    {
      "cell_type": "code",
      "source": [
        "graph = graph_builder.compile()"
      ],
      "metadata": {
        "id": "pEruUxe5m2Ih"
      },
      "execution_count": 19,
      "outputs": []
    },
    {
      "cell_type": "code",
      "source": [
        "from IPython.display import Image, display\n",
        "\n",
        "try:\n",
        "  display(Image(graph.get_graph().draw_mermaid_png()))\n",
        "except Exception:\n",
        "  pass"
      ],
      "metadata": {
        "colab": {
          "base_uri": "https://localhost:8080/",
          "height": 251
        },
        "id": "6PSm6aWam608",
        "outputId": "33998938-5532-4426-f0ea-3ef9477ebf85"
      },
      "execution_count": 20,
      "outputs": [
        {
          "output_type": "display_data",
          "data": {
            "image/jpeg": "[encoded data removed]",
            "text/plain": [
              "<IPython.core.display.Image object>"
            ]
          },
          "metadata": {}
        }
      ]
    },
    {
      "cell_type": "code",
      "source": [
        "while True:\n",
        "  user_input = input(\"User: \")\n",
        "  if user_input.lower() in [\"quit\", \"q\"]:\n",
        "    print(\"Good bye\")\n",
        "    break\n",
        "\n",
        "  for event in graph.stream({\"messages\": (\"user\", user_input)}):\n",
        "    print(event.values())\n",
        "\n",
        "    for value in event.values():\n",
        "      print(value['messages'])\n",
        "      print(\"Assistant:\", value[\"messages\"].content)"
      ],
      "metadata": {
        "colab": {
          "base_uri": "https://localhost:8080/"
        },
        "id": "LJ3M9OXFm-Hy",
        "outputId": "d485ce48-401a-4474-d758-50527bddd632"
      },
      "execution_count": 23,
      "outputs": [
        {
          "output_type": "stream",
          "name": "stdout",
          "text": [
            "User: What is generative AI\n",
            "dict_values([{'messages': AIMessage(content=\"Generative AI is a type of artificial intelligence that focuses on **creating new content**. \\n\\nInstead of simply analyzing and interpreting existing data, generative AI models learn the underlying patterns and structures in data and then use that knowledge to generate new, original data.\\n\\nHere's a breakdown:\\n\\n**What it does:**\\n\\n* **Creates text:** Writes stories, poems, articles, dialogue, code, and more.\\n* **Generates images:**  Produces photos, artwork, illustrations, and designs.\\n* **Composes music:**  Creates original melodies, harmonies, and musical pieces.\\n* **Synthesizes audio:**  Produces realistic speech, sound effects, and voiceovers.\\n* **Designs objects:**  Creates 3D models of products, buildings, and other objects.\\n\\n**How it works:**\\n\\nGenerative AI models are typically trained on massive datasets of existing content. \\n\\nThey learn the statistical relationships between different elements in the data, allowing them to predict and generate new content that follows similar patterns.\\n\\n**Popular Examples:**\\n\\n* **OpenAI's ChatGPT:** A text-based AI that can generate human-quality text in response to prompts.\\n* **DALL-E 2:** An AI that creates images from text descriptions.\\n* **Stable Diffusion:** An open-source AI for generating images from text.\\n* **Jukebox:** An AI that generates music in various styles.\\n\\n**Applications:**\\n\\nGenerative AI has a wide range of potential applications, including:\\n\\n* **Creative industries:**  Writing assistance, art and design, music composition.\\n* **Marketing and advertising:**  Generating personalized content, creating ad campaigns.\\n* **Education:**  Creating interactive learning experiences, generating personalized feedback.\\n* **Research:**  Accelerating scientific discovery by generating new hypotheses and designs.\\n\\n**Ethical Considerations:**\\n\\nThe development and deployment of generative AI raise important ethical considerations, such as:\\n\\n* **Bias and fairness:**  AI models can perpetuate biases present in the training data.\\n* **Copyright and intellectual property:**  Who owns the rights to AI-generated content?\\n* **Misinformation and deepfakes:**  The potential for AI to create realistic but fake content.\\n\\nIt's crucial to address these issues responsibly as generative AI continues to advance.\\n\", additional_kwargs={}, response_metadata={'token_usage': {'completion_tokens': 474, 'prompt_tokens': 13, 'total_tokens': 487, 'completion_time': 0.861818182, 'prompt_time': 7.453e-05, 'queue_time': 0.01535847, 'total_time': 0.861892712}, 'model_name': 'gemma2-9b-It', 'system_fingerprint': 'fp_10c08bf97d', 'finish_reason': 'stop', 'logprobs': None}, id='run-f922e391-5aa4-420d-823e-ed7b940aadf5-0', usage_metadata={'input_tokens': 13, 'output_tokens': 474, 'total_tokens': 487})}])\n",
            "content=\"Generative AI is a type of artificial intelligence that focuses on **creating new content**. \\n\\nInstead of simply analyzing and interpreting existing data, generative AI models learn the underlying patterns and structures in data and then use that knowledge to generate new, original data.\\n\\nHere's a breakdown:\\n\\n**What it does:**\\n\\n* **Creates text:** Writes stories, poems, articles, dialogue, code, and more.\\n* **Generates images:**  Produces photos, artwork, illustrations, and designs.\\n* **Composes music:**  Creates original melodies, harmonies, and musical pieces.\\n* **Synthesizes audio:**  Produces realistic speech, sound effects, and voiceovers.\\n* **Designs objects:**  Creates 3D models of products, buildings, and other objects.\\n\\n**How it works:**\\n\\nGenerative AI models are typically trained on massive datasets of existing content. \\n\\nThey learn the statistical relationships between different elements in the data, allowing them to predict and generate new content that follows similar patterns.\\n\\n**Popular Examples:**\\n\\n* **OpenAI's ChatGPT:** A text-based AI that can generate human-quality text in response to prompts.\\n* **DALL-E 2:** An AI that creates images from text descriptions.\\n* **Stable Diffusion:** An open-source AI for generating images from text.\\n* **Jukebox:** An AI that generates music in various styles.\\n\\n**Applications:**\\n\\nGenerative AI has a wide range of potential applications, including:\\n\\n* **Creative industries:**  Writing assistance, art and design, music composition.\\n* **Marketing and advertising:**  Generating personalized content, creating ad campaigns.\\n* **Education:**  Creating interactive learning experiences, generating personalized feedback.\\n* **Research:**  Accelerating scientific discovery by generating new hypotheses and designs.\\n\\n**Ethical Considerations:**\\n\\nThe development and deployment of generative AI raise important ethical considerations, such as:\\n\\n* **Bias and fairness:**  AI models can perpetuate biases present in the training data.\\n* **Copyright and intellectual property:**  Who owns the rights to AI-generated content?\\n* **Misinformation and deepfakes:**  The potential for AI to create realistic but fake content.\\n\\nIt's crucial to address these issues responsibly as generative AI continues to advance.\\n\" additional_kwargs={} response_metadata={'token_usage': {'completion_tokens': 474, 'prompt_tokens': 13, 'total_tokens': 487, 'completion_time': 0.861818182, 'prompt_time': 7.453e-05, 'queue_time': 0.01535847, 'total_time': 0.861892712}, 'model_name': 'gemma2-9b-It', 'system_fingerprint': 'fp_10c08bf97d', 'finish_reason': 'stop', 'logprobs': None} id='run-f922e391-5aa4-420d-823e-ed7b940aadf5-0' usage_metadata={'input_tokens': 13, 'output_tokens': 474, 'total_tokens': 487}\n",
            "Assistant: Generative AI is a type of artificial intelligence that focuses on **creating new content**. \n",
            "\n",
            "Instead of simply analyzing and interpreting existing data, generative AI models learn the underlying patterns and structures in data and then use that knowledge to generate new, original data.\n",
            "\n",
            "Here's a breakdown:\n",
            "\n",
            "**What it does:**\n",
            "\n",
            "* **Creates text:** Writes stories, poems, articles, dialogue, code, and more.\n",
            "* **Generates images:**  Produces photos, artwork, illustrations, and designs.\n",
            "* **Composes music:**  Creates original melodies, harmonies, and musical pieces.\n",
            "* **Synthesizes audio:**  Produces realistic speech, sound effects, and voiceovers.\n",
            "* **Designs objects:**  Creates 3D models of products, buildings, and other objects.\n",
            "\n",
            "**How it works:**\n",
            "\n",
            "Generative AI models are typically trained on massive datasets of existing content. \n",
            "\n",
            "They learn the statistical relationships between different elements in the data, allowing them to predict and generate new content that follows similar patterns.\n",
            "\n",
            "**Popular Examples:**\n",
            "\n",
            "* **OpenAI's ChatGPT:** A text-based AI that can generate human-quality text in response to prompts.\n",
            "* **DALL-E 2:** An AI that creates images from text descriptions.\n",
            "* **Stable Diffusion:** An open-source AI for generating images from text.\n",
            "* **Jukebox:** An AI that generates music in various styles.\n",
            "\n",
            "**Applications:**\n",
            "\n",
            "Generative AI has a wide range of potential applications, including:\n",
            "\n",
            "* **Creative industries:**  Writing assistance, art and design, music composition.\n",
            "* **Marketing and advertising:**  Generating personalized content, creating ad campaigns.\n",
            "* **Education:**  Creating interactive learning experiences, generating personalized feedback.\n",
            "* **Research:**  Accelerating scientific discovery by generating new hypotheses and designs.\n",
            "\n",
            "**Ethical Considerations:**\n",
            "\n",
            "The development and deployment of generative AI raise important ethical considerations, such as:\n",
            "\n",
            "* **Bias and fairness:**  AI models can perpetuate biases present in the training data.\n",
            "* **Copyright and intellectual property:**  Who owns the rights to AI-generated content?\n",
            "* **Misinformation and deepfakes:**  The potential for AI to create realistic but fake content.\n",
            "\n",
            "It's crucial to address these issues responsibly as generative AI continues to advance.\n",
            "\n",
            "User: q\n",
            "Good bye\n"
          ]
        }
      ]
    },
    {
      "cell_type": "code",
      "source": [],
      "metadata": {
        "id": "3e6ect2mnxrm"
      },
      "execution_count": null,
      "outputs": []
    }
  ]
}